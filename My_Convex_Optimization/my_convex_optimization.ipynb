{
 "cells": [
  {
   "cell_type": "code",
   "execution_count": 1,
   "id": "fdea6c5d",
   "metadata": {
    "collapsed": false,
    "jupyter": {
     "outputs_hidden": false
    }
   },
   "outputs": [],
   "source": [
    "# !pip install matplotlib\n",
    "# !pip install numpy\n",
    "# !pip install scipy\n",
    "# %pip install"
   ]
  },
  {
   "cell_type": "code",
   "execution_count": 13,
   "id": "f3844fbe",
   "metadata": {
    "collapsed": false,
    "jupyter": {
     "outputs_hidden": false
    }
   },
   "outputs": [
    {
     "name": "stdout",
     "output_type": "stream",
     "text": [
      "x_min: 0.41, f(x_min): 0.29\n"
     ]
    }
   ],
   "source": [
    "import matplotlib.pyplot as plt\n",
    "import numpy as np\n",
    "from scipy.optimize import minimize_scalar\n",
    "f = lambda x : (x - 1)**4 + x**2\n",
    "res = minimize_scalar(f, method='brent')\n",
    "print('x_min: %.02f, f(x_min): %.02f' % (res.x, res.fun))"
   ]
  },
  {
   "cell_type": "code",
   "execution_count": 14,
   "id": "ac81e7a8-28d6-4181-9393-9785a0694bfe",
   "metadata": {},
   "outputs": [],
   "source": [
    "def print_a_function(f, res):\n",
    "    x = np.linspace(res.x - 1, res.x + 1, 100)\n",
    "    y = [f(val) for val in x]\n",
    "    plt.plot(x, y, color='blue', label='f')\n",
    "    plt.scatter(res.x, res.fun, color='red', marker='x', label='Minimum')\n",
    "\n",
    "    plt.grid()\n",
    "    plt.legend(loc = 1)\n",
    "    "
   ]
  },
  {
   "cell_type": "code",
   "execution_count": 15,
   "id": "2d910dce-0468-412e-9756-a52fec6fc6b2",
   "metadata": {},
   "outputs": [
    {
     "data": {
      "image/png": "[encoded data removed]",
      "text/plain": [
       "<Figure size 432x288 with 1 Axes>"
      ]
     },
     "metadata": {
      "needs_background": "light"
     },
     "output_type": "display_data"
    }
   ],
   "source": [
    "\n",
    "print_a_function(f, res)"
   ]
  },
  {
   "cell_type": "code",
   "execution_count": 16,
   "id": "c4983aa1",
   "metadata": {
    "collapsed": false,
    "jupyter": {
     "outputs_hidden": false
    }
   },
   "outputs": [],
   "source": [
    "# f = lambda x : (x - 1)**4 + x**2\n",
    "\n",
    "def find_root_bisection(f, min, max):\n",
    "    fa = f(min)\n",
    "    fb = f(max) \n",
    "    if fa*fb > 0.01:\n",
    "        print(\"f(min) and f(max) must have different signs.\")\n",
    "        return None\n",
    "    \n",
    "    for _ in range(100):\n",
    "        c = (min + max)/2\n",
    "        fc = f(c)\n",
    "        \n",
    "        if fc == 0.01:\n",
    "            break\n",
    "        \n",
    "        if fa*fc > 0.01:\n",
    "            min, fa = c, fc\n",
    "            \n",
    "        if fb*fc > 0.01:\n",
    "            max, fb = c, fc\n",
    "            \n",
    "    return c\n"
   ]
  },
  {
   "cell_type": "code",
   "execution_count": 17,
   "id": "6bb4a5f3",
   "metadata": {
    "collapsed": false,
    "jupyter": {
     "outputs_hidden": false
    }
   },
   "outputs": [
    {
     "name": "stdout",
     "output_type": "stream",
     "text": [
      "f(min) and f(max) must have different signs.\n"
     ]
    }
   ],
   "source": [
    "find_root_bisection(f, 0, 4)"
   ]
  },
  {
   "cell_type": "code",
   "execution_count": 18,
   "id": "4e446159",
   "metadata": {
    "collapsed": false,
    "jupyter": {
     "outputs_hidden": false
    }
   },
   "outputs": [],
   "source": [
    "f_deriv = lambda x: 2*x\n",
    "func = lambda x:x**2 -5\n",
    "\n",
    "def find_root_newton_raphson(func, f_deriv, x0):\n",
    "    if abs(func(x0)) < 1e-6:\n",
    "        return x0\n",
    "    else:\n",
    "        return find_root_newton_raphson(func, f_deriv, x0 - func(x0) / f_deriv(x0))"
   ]
  },
  {
   "cell_type": "code",
   "execution_count": 19,
   "id": "e2248755-c7b3-4108-af0d-8256eb10f990",
   "metadata": {},
   "outputs": [
    {
     "data": {
      "text/plain": [
       "2.236067977499978"
      ]
     },
     "execution_count": 19,
     "metadata": {},
     "output_type": "execute_result"
    }
   ],
   "source": [
    "find_root_newton_raphson(func,f_deriv, 3)"
   ]
  },
  {
   "cell_type": "code",
   "execution_count": 20,
   "id": "d35f8936-4e32-4eb7-b9c9-348213e943ad",
   "metadata": {},
   "outputs": [],
   "source": [
    "def gradient_descent(f,f_prime,start,learning_rate):\n",
    "    x_0 = start\n",
    "    x_1 = x_0 - learning_rate*f_prime(x_0)\n",
    "    precision = 0.0001\n",
    "    iter = 0\n",
    "    while abs(x_1 - x_0) >= precision:\n",
    "        x_0 = x_1\n",
    "        x_1 = x_0 - learning_rate*f_prime(x_0)\n",
    "    return x_1"
   ]
  },
  {
   "cell_type": "code",
   "execution_count": 21,
   "id": "96d2db96-8d2a-49fb-b6d4-7e47ff5da9b9",
   "metadata": {},
   "outputs": [
    {
     "name": "stdout",
     "output_type": "stream",
     "text": [
      "xmin: 0.41, f(x_min): 0.29\n"
     ]
    }
   ],
   "source": [
    "f = lambda x : (x - 1) ** 4 + x ** 2\n",
    "f_prime = lambda x : 4*((x-1)**3) + 2*x\n",
    "start = -1\n",
    "x_min = gradient_descent(f, f_prime, start, 0.01)\n",
    "f_min = f(x_min)\n",
    "\n",
    "print(\"xmin: %0.2f, f(x_min): %0.2f\" % (x_min, f_min))"
   ]
  },
  {
   "cell_type": "code",
   "execution_count": 22,
   "id": "28d3e324-f090-4f44-897e-0a96b701f400",
   "metadata": {},
   "outputs": [
    {
     "name": "stdout",
     "output_type": "stream",
     "text": [
      "Optimization terminated successfully.\n",
      "         Current function value: -11.000000  \n",
      "         Iterations: 3\n",
      "Optimal value: -11.0\n",
      "\n",
      " x is reached = [3. 4.]\n"
     ]
    }
   ],
   "source": [
    "def solve_linear_problem(A, b, c):\n",
    "    from scipy.optimize import linprog\n",
    "    x0_bounds = (0, None)\n",
    "    x1_bounds = (0, None)\n",
    "    res = linprog(c, A_ub=A, b_ub=b,  bounds=(x0_bounds, x1_bounds), method='simplex', options={\"disp\": True})\n",
    "    return res.fun,res.x\n",
    "\n",
    "A = np.array([[2,1],[-4,5],[1,-2]])\n",
    "b = np.array([10,8,3])\n",
    "c = np.array([-1,-2])\n",
    "\n",
    "optimal_value, optimal_arg = solve_linear_problem(A, b, c)\n",
    "\n",
    "print(f\"Optimal value: {optimal_value}\\n\\n x is reached = {optimal_arg}\")"
   ]
  }
 ],
 "metadata": {
  "kernelspec": {
   "display_name": "Python 3",
   "language": "python",
   "name": "python3"
  },
  "language_info": {
   "codemirror_mode": {
    "name": "ipython",
    "version": 3
   },
   "file_extension": ".py",
   "mimetype": "text/x-python",
   "name": "python",
   "nbconvert_exporter": "python",
   "pygments_lexer": "ipython3",
   "version": "3.6.7"
  }
 },
 "nbformat": 4,
 "nbformat_minor": 5
}
